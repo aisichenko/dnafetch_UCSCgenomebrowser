{
 "cells": [
  {
   "cell_type": "markdown",
   "metadata": {},
   "source": [
    "# Use this notebook to fetch DNA"
   ]
  },
  {
   "cell_type": "code",
   "execution_count": 27,
   "metadata": {},
   "outputs": [],
   "source": [
    "import pandas as pd\n",
    "import urllib.request"
   ]
  },
  {
   "cell_type": "code",
   "execution_count": null,
   "metadata": {},
   "outputs": [],
   "source": [
    "def get_dna_file(csv_file_path=\"/path/to/file/binding_regions.csv\"):\n",
    "    dna_text_file = open(\"dna_file.txt\", \"w\")\n",
    "    br = pd.read_csv('binding_regions.csv', header=None)\n",
    "    str_list = []\n",
    "    for ii in range(len(br)):\n",
    "        mystring = br[0][ii]\n",
    "        str_list.append(mystring[:6].replace('_', '%3A') + mystring[6:].replace('_', '-'))\n",
    "        \n",
    "    url_string_1 = 'https://genome.ucsc.edu/cgi-bin/hgc?hgsid=836125057_ijVgkDEyzootwXiImOEHKAAiE5wj&g=htcGetDna2&table=&i=mixed&o=54742991&l=54742991&r=54743351&getDnaPos='\n",
    "    urls = []\n",
    "    final_string = []\n",
    "    \n",
    "    print('Lets scrape!')\n",
    "    \n",
    "    for ii in range(len(str_list)):\n",
    "        url_string_2 = str_list[ii] + '&db=hg19&hgSeq.cdsExon=1&hgSeq.padding5=0&hgSeq.padding3=0&hgSeq.casing=upper&boolshad.hgSeq.maskRepeats=0&hgSeq.repMasking=lower&boolshad.hgSeq.revComp=0&submit=get+DNA'\n",
    "        urls.append(url_string_1 + url_string_2)\n",
    "        data = urllib.request.urlopen(urls[ii]) \n",
    "        string = data.read()\n",
    "        string = string.decode(\"utf-8\").rstrip()\n",
    "        string = string.split('<PRE>\\n')[1].rstrip().split('</PRE>')[0].rstrip()\n",
    "        string = string.replace('\\n', '').replace('none','none ')\n",
    "        string = string[0:9] + str(ii+1) + string[9:]\n",
    "        final_string.append(string)\n",
    "        dna_text_file.write(string.split('none')[0] + 'none' + '\\n')\n",
    "        dna_text_file.write(string.split('none ')[1] + '\\n')\n",
    "\n",
    "    dna_text_file.close()\n",
    "    print('DNA file written!')"
   ]
  }
 ],
 "metadata": {
  "kernelspec": {
   "display_name": "Python 3",
   "language": "python",
   "name": "python3"
  },
  "language_info": {
   "codemirror_mode": {
    "name": "ipython",
    "version": 3
   },
   "file_extension": ".py",
   "mimetype": "text/x-python",
   "name": "python",
   "nbconvert_exporter": "python",
   "pygments_lexer": "ipython3",
   "version": "3.7.7"
  }
 },
 "nbformat": 4,
 "nbformat_minor": 4
}
